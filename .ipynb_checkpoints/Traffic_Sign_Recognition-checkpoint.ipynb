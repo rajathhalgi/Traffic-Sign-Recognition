{
 "cells": [
  {
   "cell_type": "code",
   "execution_count": 1,
   "id": "advance-letters",
   "metadata": {},
   "outputs": [],
   "source": [
    "import numpy as np \n",
    "import pandas as pd \n",
    "import matplotlib.pyplot as plt\n",
    "import cv2\n",
    "import tensorflow as tf\n",
    "from PIL import Image\n",
    "import os\n",
    "os.chdir('C:/Users/rajat/Desktop/kaggle/Traffic_Sign_Recognition')\n",
    "from sklearn.model_selection import train_test_split\n",
    "from keras.utils import to_categorical\n",
    "from keras.models import Sequential, load_model\n",
    "from keras.layers import Conv2D, MaxPool2D, Dense, Flatten, Dropout"
   ]
  },
  {
   "cell_type": "code",
   "execution_count": 2,
   "id": "bulgarian-politics",
   "metadata": {},
   "outputs": [
    {
     "data": {
      "text/plain": [
       "'C:\\\\Users\\\\rajat\\\\Desktop\\\\kaggle\\\\Traffic_Sign_Recognition'"
      ]
     },
     "execution_count": 2,
     "metadata": {},
     "output_type": "execute_result"
    }
   ],
   "source": [
    "#Store Data , Labels in the list\n",
    "data = []\n",
    "labels = []\n",
    "# We have 43 Classes\n",
    "classes = 43\n",
    "cur_path = os.getcwd()\n",
    "cur_path"
   ]
  },
  {
   "cell_type": "code",
   "execution_count": 3,
   "id": "frozen-eight",
   "metadata": {},
   "outputs": [],
   "source": [
    "#Preprocess the images\n",
    "for i in range(classes):\n",
    "    path = os.path.join(cur_path,'train',str(i))\n",
    "    images = os.listdir(path)\n",
    "    for a in images:\n",
    "        try:\n",
    "            image = Image.open(path + '\\\\'+ a)\n",
    "            image = image.resize((30,30))\n",
    "            image = np.array(image)\n",
    "            data.append(image)\n",
    "            labels.append(i)\n",
    "        except Exception as e:\n",
    "            print(e)"
   ]
  },
  {
   "cell_type": "code",
   "execution_count": 4,
   "id": "serial-grace",
   "metadata": {},
   "outputs": [],
   "source": [
    "# Converting lists into numpy arrays\n",
    "data = np.array(data)\n",
    "labels = np.array(labels)"
   ]
  },
  {
   "cell_type": "code",
   "execution_count": 5,
   "id": "persistent-layer",
   "metadata": {},
   "outputs": [],
   "source": [
    "# Save labels and data for future use\n",
    "#os.mkdir('training')\n",
    "np.save('./training/data',data)\n",
    "np.save('./training/target',labels)"
   ]
  },
  {
   "cell_type": "code",
   "execution_count": 6,
   "id": "united-cycling",
   "metadata": {},
   "outputs": [],
   "source": [
    "# load data and labels\n",
    "data=np.load('./training/data.npy')\n",
    "labels=np.load('./training/target.npy')"
   ]
  },
  {
   "cell_type": "code",
   "execution_count": 7,
   "id": "reported-stand",
   "metadata": {},
   "outputs": [
    {
     "name": "stdout",
     "output_type": "stream",
     "text": [
      "(39209, 30, 30, 3) (39209,)\n"
     ]
    }
   ],
   "source": [
    "print(data.shape, labels.shape)"
   ]
  },
  {
   "cell_type": "code",
   "execution_count": 8,
   "id": "civilian-corpus",
   "metadata": {},
   "outputs": [],
   "source": [
    "X_train, X_test, y_train, y_test = train_test_split(data, labels, test_size=0.2, random_state=0)"
   ]
  },
  {
   "cell_type": "code",
   "execution_count": 9,
   "id": "intellectual-jason",
   "metadata": {},
   "outputs": [
    {
     "name": "stdout",
     "output_type": "stream",
     "text": [
      "(31367, 30, 30, 3) (7842, 30, 30, 3) (31367,) (7842,)\n"
     ]
    }
   ],
   "source": [
    "print(X_train.shape, X_test.shape, y_train.shape, y_test.shape)"
   ]
  },
  {
   "cell_type": "code",
   "execution_count": 10,
   "id": "wrapped-supplement",
   "metadata": {},
   "outputs": [],
   "source": [
    "#Convert labels to onehot encoding\n",
    "y_train = to_categorical(y_train, 43)\n",
    "y_test = to_categorical(y_test, 43)"
   ]
  },
  {
   "cell_type": "code",
   "execution_count": 11,
   "id": "furnished-clause",
   "metadata": {},
   "outputs": [],
   "source": [
    "# Building the model\n",
    "model = Sequential()\n",
    "model.add(Conv2D(filters=32, kernel_size=(5,5), activation='relu', input_shape=X_train.shape[1:]))\n",
    "model.add(Conv2D(filters=32, kernel_size=(5,5), activation='relu'))\n",
    "model.add(MaxPool2D(pool_size=(2, 2)))\n",
    "model.add(Dropout(rate=0.25))\n",
    "model.add(Conv2D(filters=64, kernel_size=(3, 3), activation='relu'))\n",
    "model.add(Conv2D(filters=64, kernel_size=(3, 3), activation='relu'))\n",
    "model.add(MaxPool2D(pool_size=(2, 2)))\n",
    "model.add(Dropout(rate=0.25))\n",
    "model.add(Flatten())\n",
    "model.add(Dense(256, activation='relu'))\n",
    "model.add(Dropout(rate=0.5))\n",
    "model.add(Dense(43, activation='softmax'))\n",
    "#there are 43 classes so dense will be 43"
   ]
  },
  {
   "cell_type": "code",
   "execution_count": 12,
   "id": "knowing-coral",
   "metadata": {},
   "outputs": [],
   "source": [
    "\n",
    "#Compilation of the model\n",
    "model.compile(loss='categorical_crossentropy', optimizer='adam', metrics=['accuracy'])"
   ]
  },
  {
   "cell_type": "code",
   "execution_count": 13,
   "id": "valid-premium",
   "metadata": {},
   "outputs": [
    {
     "name": "stdout",
     "output_type": "stream",
     "text": [
      "Epoch 1/20\n",
      "981/981 [==============================] - 81s 82ms/step - loss: 3.2224 - accuracy: 0.3322 - val_loss: 0.4575 - val_accuracy: 0.8903\n",
      "Epoch 2/20\n",
      "981/981 [==============================] - 80s 81ms/step - loss: 0.7776 - accuracy: 0.7744 - val_loss: 0.2586 - val_accuracy: 0.9274\n",
      "Epoch 3/20\n",
      "981/981 [==============================] - 76s 77ms/step - loss: 0.5371 - accuracy: 0.8371 - val_loss: 0.2023 - val_accuracy: 0.9494\n",
      "Epoch 4/20\n",
      "981/981 [==============================] - 80s 82ms/step - loss: 0.4307 - accuracy: 0.8689 - val_loss: 0.1847 - val_accuracy: 0.9505\n",
      "Epoch 5/20\n",
      "981/981 [==============================] - 84s 85ms/step - loss: 0.3791 - accuracy: 0.8876 - val_loss: 0.1202 - val_accuracy: 0.9635\n",
      "Epoch 6/20\n",
      "981/981 [==============================] - 80s 82ms/step - loss: 0.3344 - accuracy: 0.9017 - val_loss: 0.1376 - val_accuracy: 0.9637\n",
      "Epoch 7/20\n",
      "981/981 [==============================] - 78s 80ms/step - loss: 0.3273 - accuracy: 0.9074 - val_loss: 0.0996 - val_accuracy: 0.9712\n",
      "Epoch 8/20\n",
      "981/981 [==============================] - 84s 86ms/step - loss: 0.3164 - accuracy: 0.9103 - val_loss: 0.0927 - val_accuracy: 0.9770\n",
      "Epoch 9/20\n",
      "981/981 [==============================] - 76s 77ms/step - loss: 0.2869 - accuracy: 0.9176 - val_loss: 0.1215 - val_accuracy: 0.9648\n",
      "Epoch 10/20\n",
      "981/981 [==============================] - 73s 75ms/step - loss: 0.3005 - accuracy: 0.9132 - val_loss: 0.0861 - val_accuracy: 0.9774\n",
      "Epoch 11/20\n",
      "981/981 [==============================] - 74s 75ms/step - loss: 0.2799 - accuracy: 0.9212 - val_loss: 0.0872 - val_accuracy: 0.9737\n",
      "Epoch 12/20\n",
      "981/981 [==============================] - 76s 77ms/step - loss: 0.2743 - accuracy: 0.9209 - val_loss: 0.0737 - val_accuracy: 0.9790\n",
      "Epoch 13/20\n",
      "981/981 [==============================] - 76s 78ms/step - loss: 0.2725 - accuracy: 0.9241 - val_loss: 0.0754 - val_accuracy: 0.9773\n",
      "Epoch 14/20\n",
      "981/981 [==============================] - 78s 79ms/step - loss: 0.2803 - accuracy: 0.9243 - val_loss: 0.0849 - val_accuracy: 0.9777\n",
      "Epoch 15/20\n",
      "981/981 [==============================] - 80s 81ms/step - loss: 0.2727 - accuracy: 0.9253 - val_loss: 0.0922 - val_accuracy: 0.9745\n",
      "Epoch 16/20\n",
      "981/981 [==============================] - 77s 79ms/step - loss: 0.2614 - accuracy: 0.9257 - val_loss: 0.0786 - val_accuracy: 0.9779\n",
      "Epoch 17/20\n",
      "981/981 [==============================] - 77s 78ms/step - loss: 0.2793 - accuracy: 0.9234 - val_loss: 0.0857 - val_accuracy: 0.9765\n",
      "Epoch 18/20\n",
      "981/981 [==============================] - 79s 80ms/step - loss: 0.2834 - accuracy: 0.9225 - val_loss: 0.0730 - val_accuracy: 0.9807\n",
      "Epoch 19/20\n",
      "981/981 [==============================] - 77s 78ms/step - loss: 0.3054 - accuracy: 0.9155 - val_loss: 0.0573 - val_accuracy: 0.9851\n",
      "Epoch 20/20\n",
      "981/981 [==============================] - 77s 78ms/step - loss: 0.2989 - accuracy: 0.9204 - val_loss: 0.0690 - val_accuracy: 0.9818\n"
     ]
    }
   ],
   "source": [
    "epochs = 20\n",
    "history = model.fit(X_train, y_train, batch_size=32, epochs=epochs, validation_data=(X_test, y_test))"
   ]
  },
  {
   "cell_type": "code",
   "execution_count": 14,
   "id": "acoustic-nation",
   "metadata": {},
   "outputs": [
    {
     "data": {
      "image/png": "[encoded data removed]",
      "text/plain": [
       "<Figure size 432x288 with 1 Axes>"
      ]
     },
     "metadata": {
      "needs_background": "light"
     },
     "output_type": "display_data"
    }
   ],
   "source": [
    "# accuracy \n",
    "plt.figure(0)\n",
    "plt.plot(history.history['accuracy'], label='training accuracy')\n",
    "plt.plot(history.history['val_accuracy'], label='val accuracy')\n",
    "plt.title('Accuracy')\n",
    "plt.xlabel('epochs')\n",
    "plt.ylabel('accuracy')\n",
    "plt.legend()\n",
    "plt.show()"
   ]
  },
  {
   "cell_type": "code",
   "execution_count": 15,
   "id": "virgin-pointer",
   "metadata": {},
   "outputs": [
    {
     "data": {
      "image/png": "[encoded data removed]",
      "text/plain": [
       "<Figure size 432x288 with 1 Axes>"
      ]
     },
     "metadata": {
      "needs_background": "light"
     },
     "output_type": "display_data"
    }
   ],
   "source": [
    "# Loss\n",
    "plt.plot(history.history['loss'], label='training loss')\n",
    "plt.plot(history.history['val_loss'], label='val loss')\n",
    "plt.title('Loss')\n",
    "plt.xlabel('epochs')\n",
    "plt.ylabel('loss')\n",
    "plt.legend()\n",
    "plt.show()"
   ]
  },
  {
   "cell_type": "code",
   "execution_count": 16,
   "id": "superb-theorem",
   "metadata": {},
   "outputs": [],
   "source": [
    "def testing(testcsv):\n",
    "    y_test = pd.read_csv(testcsv)\n",
    "    label = y_test[\"ClassId\"].values\n",
    "    imgs = y_test[\"Path\"].values\n",
    "    data=[]\n",
    "    for img in imgs:\n",
    "        image = Image.open(img)\n",
    "        image = image.resize((30,30))\n",
    "        data.append(np.array(image))\n",
    "    X_test=np.array(data)\n",
    "    return X_test,label"
   ]
  },
  {
   "cell_type": "code",
   "execution_count": 17,
   "id": "religious-amino",
   "metadata": {},
   "outputs": [],
   "source": [
    "X_test, label = testing('Test.csv')"
   ]
  },
  {
   "cell_type": "code",
   "execution_count": 18,
   "id": "still-timothy",
   "metadata": {},
   "outputs": [
    {
     "name": "stderr",
     "output_type": "stream",
     "text": [
      "C:\\Users\\rajat\\Anaconda3\\lib\\site-packages\\tensorflow\\python\\keras\\engine\\sequential.py:450: UserWarning: `model.predict_classes()` is deprecated and will be removed after 2021-01-01. Please use instead:* `np.argmax(model.predict(x), axis=-1)`,   if your model does multi-class classification   (e.g. if it uses a `softmax` last-layer activation).* `(model.predict(x) > 0.5).astype(\"int32\")`,   if your model does binary classification   (e.g. if it uses a `sigmoid` last-layer activation).\n",
      "  warnings.warn('`model.predict_classes()` is deprecated and '\n"
     ]
    },
    {
     "data": {
      "text/plain": [
       "array([16,  1, 38, ..., 32,  7, 10], dtype=int64)"
      ]
     },
     "execution_count": 18,
     "metadata": {},
     "output_type": "execute_result"
    }
   ],
   "source": [
    "Y_pred = model.predict_classes(X_test)\n",
    "Y_pred"
   ]
  },
  {
   "cell_type": "code",
   "execution_count": 19,
   "id": "faced-pound",
   "metadata": {},
   "outputs": [
    {
     "name": "stdout",
     "output_type": "stream",
     "text": [
      "0.9508313539192399\n"
     ]
    }
   ],
   "source": [
    "#Accuracy with the test data\n",
    "from sklearn.metrics import accuracy_score\n",
    "print(accuracy_score(label, Y_pred))"
   ]
  },
  {
   "cell_type": "code",
   "execution_count": 20,
   "id": "rental-privilege",
   "metadata": {},
   "outputs": [],
   "source": [
    "#Save the model\n",
    "model.save(\"./training/TSR.h5\")"
   ]
  },
  {
   "cell_type": "code",
   "execution_count": 21,
   "id": "behavioral-mining",
   "metadata": {},
   "outputs": [],
   "source": [
    "#Load the model\n",
    "import os\n",
    "os.chdir(r'C:/Users/rajat/Desktop/kaggle/Traffic_Sign_Recognition')\n",
    "from keras.models import load_model\n",
    "model = load_model('./training/TSR.h5')"
   ]
  },
  {
   "cell_type": "code",
   "execution_count": 25,
   "id": "received-canal",
   "metadata": {},
   "outputs": [],
   "source": [
    "# Classes of trafic signs\n",
    "classes = { 0:'Speed limit (20km/h) / Geschwindigkeitsbegrenzung (20km/h)',\n",
    "            1:'Speed limit (30km/h) / Geschwindigkeitsbegrenzung (30km/h)', \n",
    "            2:'Speed limit (50km/h) / Geschwindigkeitsbegrenzung (50km/h)', \n",
    "            3:'Speed limit (60km/h) / Geschwindigkeitsbegrenzung (60km/h)', \n",
    "            4:'Speed limit (70km/h) / Geschwindigkeitsbegrenzung (70km/h)', \n",
    "            5:'Speed limit (80km/h) / Geschwindigkeitsbegrenzung (80km/h)', \n",
    "            6:'End of speed limit (80km/h)/Ende der Geschwindigkeitsbegrenzung (80km/h)', \n",
    "            7:'Speed limit (100km/h) / Geschwindigkeitsbegrenzung (100km/h)', \n",
    "            8:'Speed limit (120km/h) / Geschwindigkeitsbegrenzung (100km/h)', \n",
    "            9:'No passing / Kein Durchgang ' , \n",
    "            10:'No passing veh over 3.5 tons / Kein vorbeifahrendes Fahrzeug über 3,5 Tonnen', \n",
    "            11:'Right-of-way at intersection', \n",
    "            12:'Priority road / Vorfahrtstraße', \n",
    "            13:'Yield / Ausbeute', \n",
    "            14:'Stop / halten', \n",
    "            15:'No vehicles / keine Fahrzeuge', \n",
    "            16:'Veh > 3.5 tons prohibited / Fahrzeug > 3,5 Tonnen verboten', \n",
    "            17:'No entry / Kein Zutritt', \n",
    "            18:'General caution / allgemeine Vorsicht', \n",
    "            19:'Dangerous curve left / Gefährliche Kurve links', \n",
    "            20:'Dangerous curve right / Gefährliche Kurve Rechts', \n",
    "            21:'Double curve / Doppelkurve', \n",
    "            22:'Bumpy road / Holprige Straße', \n",
    "            23:'Slippery road / glatte Straße', \n",
    "            24:'Road narrows on the right / Straße verengt sich auf der rechten Seite', \n",
    "            25:'Road work / Straßenbauarbeiten', \n",
    "            26:'Traffic signals / Verkehrssignale', \n",
    "            27:'Pedestrians / Fußgänger', \n",
    "            28:'Children crossing / Childeren Überfahrt', \n",
    "            29:'Bicycles crossing / Fahhraden Überfahrt', \n",
    "            30:'Beware of ice/snow / Vorsicht bei Eis/Schnee',\n",
    "            31:'Wild animals crossing / Wilde Tiere kreuzen', \n",
    "            32:'End speed + passing limits / Endgeschwindigkeit + Überholgrenzen', \n",
    "            33:'Turn right ahead / Geradeaus rechts abbiegen', \n",
    "            34:'Turn left ahead / Geradeaus links abbiegen', \n",
    "            35:'Ahead only / Nur nach vorne', \n",
    "            36:'Go straight or right / Geradeaus oder rechts fahren', \n",
    "            37:'Go straight or left / Geradeaus oder links fahren', \n",
    "            38:'Keep right / Rechts halten', \n",
    "            39:'Keep left / Links halten', \n",
    "            40:'Roundabout mandatory / Kreisverkehr obligatorisch', \n",
    "            41:'End of no passing / Ende der Nichtweitergabe', \n",
    "            42:'End no passing veh > 3.5 tons / Ende kein Durchgangsfahrzeug > 3,5 Tonnen' }"
   ]
  },
  {
   "cell_type": "code",
   "execution_count": 26,
   "id": "interstate-commercial",
   "metadata": {},
   "outputs": [],
   "source": [
    "from PIL import Image\n",
    "import numpy as np\n",
    "import matplotlib.pyplot as plt\n",
    "def test_on_img(img):\n",
    "    data=[]\n",
    "    image = Image.open(img)\n",
    "    image = image.resize((30,30))\n",
    "    data.append(np.array(image))\n",
    "    X_test=np.array(data)\n",
    "    Y_pred = model.predict_classes(X_test)\n",
    "    return image,Y_pred"
   ]
  },
  {
   "cell_type": "code",
   "execution_count": 27,
   "id": "satisfied-argument",
   "metadata": {},
   "outputs": [
    {
     "name": "stdout",
     "output_type": "stream",
     "text": [
      "Predicted traffic sign is:  Go straight or right / Geradeaus oder rechts fahren\n"
     ]
    },
    {
     "data": {
      "image/png": "[encoded data removed]",
      "text/plain": [
       "<Figure size 432x288 with 1 Axes>"
      ]
     },
     "metadata": {
      "needs_background": "light"
     },
     "output_type": "display_data"
    }
   ],
   "source": [
    "plot,prediction = test_on_img(r'C:/Users/rajat/Desktop/kaggle/Traffic_Sign_Recognition/Test/00401.png')\n",
    "s = [str(i) for i in prediction] \n",
    "a = int(\"\".join(s)) \n",
    "print(\"Predicted traffic sign is: \", classes[a])\n",
    "plt.imshow(plot)\n",
    "plt.show()"
   ]
  },
  {
   "cell_type": "code",
   "execution_count": null,
   "id": "disciplinary-nation",
   "metadata": {},
   "outputs": [],
   "source": []
  }
 ],
 "metadata": {
  "kernelspec": {
   "display_name": "Python 3",
   "language": "python",
   "name": "python3"
  },
  "language_info": {
   "codemirror_mode": {
    "name": "ipython",
    "version": 3
   },
   "file_extension": ".py",
   "mimetype": "text/x-python",
   "name": "python",
   "nbconvert_exporter": "python",
   "pygments_lexer": "ipython3",
   "version": "3.7.4"
  }
 },
 "nbformat": 4,
 "nbformat_minor": 5
}
